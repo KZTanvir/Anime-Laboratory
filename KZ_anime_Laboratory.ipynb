{
  "nbformat": 4,
  "nbformat_minor": 0,
  "metadata": {
    "colab": {
      "name": "KZ anime Laboratory.ipynb",
      "provenance": [],
      "collapsed_sections": [],
      "mount_file_id": "1392v2hHFejKaGQ6Xd4AEtEYYEw71RY36",
      "authorship_tag": "ABX9TyOn9y2/u/0hNWW9lDCbnXlG",
      "include_colab_link": true
    },
    "kernelspec": {
      "name": "python3",
      "display_name": "Python 3"
    },
    "language_info": {
      "name": "python"
    }
  },
  "cells": [
    {
      "cell_type": "markdown",
      "metadata": {
        "id": "view-in-github",
        "colab_type": "text"
      },
      "source": [
        "<a href=\"https://colab.research.google.com/github/KZTanvir/Anime-Laboratory/blob/main/KZ_anime_Laboratory.ipynb\" target=\"_parent\"><img src=\"https://colab.research.google.com/assets/colab-badge.svg\" alt=\"Open In Colab\"/></a>"
      ]
    },
    {
      "cell_type": "markdown",
      "metadata": {
        "id": "-DRqVgBYakN8"
      },
      "source": [
        "<br>\n",
        "<center><img src=\"https://drive.google.com/uc?export=view&id=1kBl07073_8WZEc0Dgf157f9-M8meOETf\" width=\"40%\">\n",
        "\n",
        "---\n",
        "\n",
        "<font size=\"6\" color=\"#DC143C\"><b><center>KZ Anime Laboratory<b>\n",
        "\n",
        "---\n",
        "\n",
        "<font size=\"3\" color=\"#900C3F\">Download anime episodes with batch anime downloading support.\n"
      ]
    },
    {
      "cell_type": "markdown",
      "metadata": {
        "id": "RbfMCI6CjtiJ"
      },
      "source": [
        "<br>\n",
        "<br>"
      ]
    },
    {
      "cell_type": "code",
      "metadata": {
        "id": "ZriN0-oNSUbB",
        "cellView": "form"
      },
      "source": [
        "#@title <font size=\"5\" color=\"#DC143C\"><b>Tutorial</b><font size=\"2\" color=\"#DC143C\">(optional)\n",
        "#@markdown <font size=\"2\" color=\"#FF6700\"><i>Just tap play</i> ▶️ <i>button to win.<br><br>\n",
        "print(\"You're a quick learner.😁\\nSuccessfully played!▶😏\")"
      ],
      "execution_count": null,
      "outputs": []
    },
    {
      "cell_type": "markdown",
      "metadata": {
        "id": "h80O5UdckSiZ"
      },
      "source": [
        "<br>\n",
        "<br>"
      ]
    },
    {
      "cell_type": "code",
      "metadata": {
        "id": "XTOb34MOISTC",
        "cellView": "form"
      },
      "source": [
        "#@title #<font color=\"#DC143C\">Mount **Google Drive**\n",
        "#@markdown <font size=\"2\" color=\"#FF6700\">*This will help Colaboratory to connect with google drive storage.*\n",
        "#from google.colab import output\n",
        "from google.colab import drive, output\n",
        "drive.mount('/content/drive')\n",
        "output.clear()\n",
        "print(\"Connected!\")"
      ],
      "execution_count": null,
      "outputs": []
    },
    {
      "cell_type": "markdown",
      "metadata": {
        "id": "RkpJJj3QkTEw"
      },
      "source": [
        "<br>\n",
        "<br>"
      ]
    },
    {
      "cell_type": "code",
      "metadata": {
        "id": "RFJf64XQpllq",
        "cellView": "form"
      },
      "source": [
        "#@title #<font color=\"#DC143C\">**Install** required tools\n",
        "!pip3 install anime-downloader\n",
        "!sudo apt-get install aria2\n",
        "output.clear()"
      ],
      "execution_count": 3,
      "outputs": []
    },
    {
      "cell_type": "markdown",
      "metadata": {
        "id": "jH-O9TmJkTu4"
      },
      "source": [
        "<br>\n",
        "<br>"
      ]
    },
    {
      "cell_type": "markdown",
      "metadata": {
        "id": "gDwhr0GOOcLM"
      },
      "source": [
        "<font size=\"6\" color=\"#DC143C\">Working Providers.<b>\n",
        "\n",
        "<font size=\"4\" color=\"#FF6700\"><ul><li>Animeout<li>Animerush<li>Putlockers</b><sub><font size=\"2\"> Best<sub></ul></font>"
      ]
    },
    {
      "cell_type": "code",
      "metadata": {
        "id": "bVx3gRV_qd3Y",
        "cellView": "form"
      },
      "source": [
        "#@title #<font color=\"#008080\"><i><b>Let's Start The game!\n",
        "#@markdown <font size=\"2\" color=\"#FF6700\"><i>Choose providers in **AnimeProvider** and search anime in **AnimeName**.\n",
        "AnimeProvider = \"putlockers\" #@param [\"4anime\", \"anitube\", \"anime8\", \"animebinge\", \"gurminder\", \"animedaisuki\", \"animeflix\", \"animeflv\", \"animefreak\", \"animefree\", \"animefrenzy\", \"animekisa\", \"animetake\", \"animeonline360\", \"animeout\", \"animerush\", \"animesimple\", \"animesuge\", \"animevibe\", \"animixplay\", \"darkanime\", \"dbanimes\", \"erai-raws\", \"egyanime\", \"genoanime\", \"itsaturday\", \"justdubs\", \"kissanimex\", \"nyaa\", \"putlockers\", \"ryuanime\", \"shiro\", \"subsplease\", \"twist.moe\", \"tenshi.moe\", \"vidstream\", \"vostfree\"]\n",
        "AnimeName = \"shaman king\" #@param {type:\"string\"}\n",
        "First_Episode =  1#@param {type:\"number\"}\n",
        "Last_Episode =  1#@param {type:\"number\"}\n",
        "Download_Directory = \"My Drive\" #@param [\"My Drive\", \"Team Drive(AnimeP)\"]\n",
        "D_D = \"My Drive\"\n",
        "Aname = \"\\\"\" + AnimeName + \"\\\"\"\n",
        "xdow = \"{aria2}\"\n",
        "if Download_Directory == D_D:\n",
        "   Ddir = \"\\\"/content/drive/MyDrive/Anime Laboratory/\\\"\"\n",
        "else:\n",
        "   Ddir = \"\\\"/content/drive/Shareddrives/AnimePirates/Anime Laboratory/\\\"\"\n",
        "!anime dl $Aname --provider $AnimeProvider -xd $xdow --download-dir $Ddir -e $First_Episode:$Last_Episode\n",
        "print(\"Now GO to https://drive.google.com/ and open Anime Laboratory folder.\")"
      ],
      "execution_count": null,
      "outputs": []
    },
    {
      "cell_type": "markdown",
      "metadata": {
        "id": "8LCJ-qenkVyo"
      },
      "source": [
        "<br>\n",
        "<br><br>\n",
        "<br>"
      ]
    },
    {
      "cell_type": "markdown",
      "metadata": {
        "id": "F81Mp2QsLMaY"
      },
      "source": [
        "<center><font size=\"5\" color=\"red\"><b>Restricted Area</b> :P"
      ]
    },
    {
      "cell_type": "code",
      "metadata": {
        "id": "oirUOwgTt7Cj",
        "cellView": "form"
      },
      "source": [
        "#@title CLI Options.\n",
        "#@markdown If you dont know what is this then stay away you otaku.\n",
        "!anime dl --help"
      ],
      "execution_count": null,
      "outputs": []
    }
  ]
}